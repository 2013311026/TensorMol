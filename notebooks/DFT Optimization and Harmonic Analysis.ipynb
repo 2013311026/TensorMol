{
 "cells": [
  {
   "cell_type": "code",
   "execution_count": 1,
   "metadata": {},
   "outputs": [
    {
     "name": "stderr",
     "output_type": "stream",
     "text": [
      "Searching for Installed Optional Packages...\n",
      "Pyscf is not installed -- no ab-initio sampling\n"
     ]
    },
    {
     "name": "stdout",
     "output_type": "stream",
     "text": [
      "--------------------------\n",
      "    ፐℇℕЅ⦾Ɽ-ᙏ⦾ℒ  0.0\n",
      "--------------------------\n",
      "By using this software you accept the terms of the GNU public license in \n",
      "COPYING, and agree to attribute the use of this software in publications as: \n",
      "\n",
      "K.Yao, J. E. Herr, J. Parkhill. TensorMol 0.0 (2016)\n",
      "--------------------------\n",
      "--------------------------\n"
     ]
    }
   ],
   "source": [
    "from TensorMol import *"
   ]
  },
  {
   "cell_type": "code",
   "execution_count": 2,
   "metadata": {},
   "outputs": [],
   "source": [
    "a = MSet(\"david_test\")\n",
    "a.ReadXYZ(\"david_test\")\n",
    "m_ = a.mols[6]"
   ]
  },
  {
   "cell_type": "code",
   "execution_count": 5,
   "metadata": {
    "collapsed": true
   },
   "outputs": [],
   "source": [
    "def QchemDft(m_,basis_ = '6-31g*',xc_='b3lyp'):\n",
    "\tistring = '$molecule\\n0 1 \\n'\n",
    "\tcrds = m_.coords.copy()\n",
    "\tcrds[abs(crds)<0.0000] *=0.0\n",
    "\tfor j in range(len(m_.atoms)):\n",
    "\t\tistring=istring+itoa[m_.atoms[j]]+' '+str(crds[j,0])+' '+str(crds[j,1])+' '+str(crds[j,2])+'\\n'\n",
    "\tistring =istring + '$end\\n\\n$rem\\njobtype sp\\nbasis '+basis_+'\\nexchange '+xc_+'\\n thresh 11\\n symmetry false\\n sym_ignore true\\n$end\\n'\n",
    "\t#print istring\n",
    "\tf=open('./qchem/tmp.in','w')\n",
    "\tf.write(istring)\n",
    "\tf.close()\n",
    "\tsubprocess.call('qchem ./qchem/tmp.in ./qchem/tmp.out'.split(),shell=False)\n",
    "\tf=open('./qchem/tmp.out','r')\n",
    "\tlines = f.readlines()\n",
    "\tf.close()\n",
    "\tfor line in lines:\n",
    "\t\tif line.count(' met')>0:\n",
    "\t\t\treturn np.array([float(line.split()[1])])[0]\n",
    "\treturn np.array([0.0])[0]"
   ]
  },
  {
   "cell_type": "code",
   "execution_count": 6,
   "metadata": {},
   "outputs": [
    {
     "data": {
      "text/plain": [
       "-467.30527300120002"
      ]
     },
     "execution_count": 6,
     "metadata": {},
     "output_type": "execute_result"
    }
   ],
   "source": [
    "QchemDft(m_)"
   ]
  },
  {
   "cell_type": "code",
   "execution_count": null,
   "metadata": {
    "collapsed": true
   },
   "outputs": [],
   "source": []
  }
 ],
 "metadata": {
  "kernelspec": {
   "display_name": "Python 2",
   "language": "python",
   "name": "python2"
  },
  "language_info": {
   "codemirror_mode": {
    "name": "ipython",
    "version": 2
   },
   "file_extension": ".py",
   "mimetype": "text/x-python",
   "name": "python",
   "nbconvert_exporter": "python",
   "pygments_lexer": "ipython2",
   "version": "2.7.12"
  }
 },
 "nbformat": 4,
 "nbformat_minor": 2
}
