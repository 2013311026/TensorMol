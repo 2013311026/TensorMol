{
 "cells": [
  {
   "cell_type": "code",
   "execution_count": 1,
   "metadata": {
    "collapsed": false
   },
   "outputs": [],
   "source": [
    "from simtk.openmm.app import *\n",
    "from simtk.openmm import *\n",
    "from simtk.unit import *\n",
    "from sys import stdout\n",
    "from pdbfixer import PDBFixer\n",
    "import numpy as np"
   ]
  },
  {
   "cell_type": "code",
   "execution_count": 15,
   "metadata": {
    "collapsed": false
   },
   "outputs": [],
   "source": [
    "fixer = PDBFixer(filename='3gm0.pdb')\n",
    "fixer.findMissingResidues()\n",
    "# Pull out and save the coordinates of the desired ligand. \n",
    "CofactorAtoms = []\n",
    "CofactorCoords = []\n",
    "for residue in fixer.topology.residues():\n",
    "    #print residue.name #in this case the ligand is called B41. \n",
    "    if (residue.name == \"B41\"):\n",
    "        for atom in residue.atoms(): \n",
    "            CofactorAtoms.append(atom.element._symbol)\n",
    "            CofactorCoords.append(fixer.positions[atom.index]._value)\n",
    "CofactorCoords = np.array(CofactorCoords,dtype=np.float64)\n",
    "fixer.findNonstandardResidues()\n",
    "fixer.replaceNonstandardResidues()\n",
    "fixer.removeHeterogens(False)\n",
    "fixer.findMissingAtoms()\n",
    "fixer.addMissingAtoms()\n",
    "fixer.addMissingHydrogens(7.0)\n",
    "mnx = min([p[0] for p in fixer.positions])._value\n",
    "mny = min([p[1] for p in fixer.positions])._value\n",
    "mnz = min([p[2] for p in fixer.positions])._value\n",
    "CofactorCoords -= np.array([mnx,mny,mnz])\n",
    "fixer.positions._value = [p - Vec3(mnx,mny,mnz) for p in fixer.positions._value]\n",
    "maxSize = max(max((pos[i] for pos in fixer.positions))-min((pos[i] for pos in fixer.positions)) for i in range(3))\n",
    "boxSize = maxSize*Vec3(1, 1, 1)\n",
    "boxVectors = (maxSize*Vec3(1, 0, 0),maxSize*Vec3(0, 1, 0),maxSize*Vec3(0, 0, 1))"
   ]
  },
  {
   "cell_type": "code",
   "execution_count": 16,
   "metadata": {
    "collapsed": false
   },
   "outputs": [],
   "source": [
    "#\n",
    "# This is basically the pdbfixer code, but without the amber lines. \n",
    "#\n",
    "modeller = Modeller(fixer.topology, fixer.positions)\n",
    "forcefield = ForceField('amber99sb.xml', 'tip5p.xml')\n",
    "system = forcefield.createSystem(fixer.topology, nonbondedMethod=PME, nonbondedCutoff=0.05*nanometer, constraints=HBonds)\n",
    "modeller.addSolvent(forcefield, padding=0.05*nanometer, boxSize=None, boxVectors=None)\n",
    "#modeller.addSolvent(forcefield, padding=0.4*nanometer, boxSize, boxVectors=boxVectors, model='tip5p')\n",
    "# modeller.addSolvent(forcefield, padding=padding, boxSize=boxSize, boxVectors=boxVectors, positiveIon=positiveIon, negativeIon=negativeIon, ionicStrength=ionicStrength)\n",
    "fixer.topology = modeller.topology\n",
    "fixer.positions = modeller.positions\n",
    "\n",
    "proatoms = [atom.element._symbol for atom in modeller.topology.atoms()]\n",
    "procoords = np.array([fixer.positions[atom.index]._value for atom in modeller.topology.atoms()])\n",
    "\n",
    "def WriteXYZfile(atoms,coords,nm_=\"out.xyz\"):\n",
    "    natom = len(atoms)\n",
    "    f = open(nm_,\"w\")\n",
    "    f.write(str(natom)+\"\\n\"+\"\\n\")\n",
    "    for i in range(natom): \n",
    "        f.write(atoms[i]+\" \"+str(coords[i][0])+\" \"+str(coords[i][1])+\" \"+str(coords[i][2])+\"\\n\")\n",
    "        \n",
    "#\n",
    "# This will directly generate XYZ files for both the protein and the substrate. \n",
    "#\n",
    "WriteXYZfile(CofactorAtoms,CofactorCoords*10.0,\"cofactor.xyz\")\n",
    "WriteXYZfile(proatoms,procoords*10.0,\"protein.xyz\")\n",
    "#PDBFile.writeFile(fixer.topology, fixer.positions, open('3gm0_fixed.pdb', 'w'))"
   ]
  },
  {
   "cell_type": "code",
   "execution_count": null,
   "metadata": {
    "collapsed": true
   },
   "outputs": [],
   "source": []
  }
 ],
 "metadata": {
  "kernelspec": {
   "display_name": "Python 2",
   "language": "python",
   "name": "python2"
  },
  "language_info": {
   "codemirror_mode": {
    "name": "ipython",
    "version": 2
   },
   "file_extension": ".py",
   "mimetype": "text/x-python",
   "name": "python",
   "nbconvert_exporter": "python",
   "pygments_lexer": "ipython2",
   "version": "2.7.10"
  }
 },
 "nbformat": 4,
 "nbformat_minor": 2
}
