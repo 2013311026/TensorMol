{
 "cells": [
  {
   "cell_type": "code",
   "execution_count": 1,
   "metadata": {},
   "outputs": [
    {
     "name": "stderr",
     "output_type": "stream",
     "text": [
      "Searching for Installed Optional Packages...\n",
      "Pyscf is not installed -- no ab-initio sampling\n"
     ]
    },
    {
     "name": "stdout",
     "output_type": "stream",
     "text": [
      "--------------------------\n",
      "    ፐℇℕЅ⦾Ɽ-ᙏ⦾ℒ  0.0\n",
      "--------------------------\n",
      "By using this software you accept the terms of the GNU public license in \n",
      "COPYING, and agree to attribute the use of this software in publications as: \n",
      "\n",
      "K.Yao, J. E. Herr, J. Parkhill. TensorMol 0.0 (2016)\n",
      "--------------------------\n",
      "--------------------------\n"
     ]
    }
   ],
   "source": [
    "import sys\n",
    "sys.path.append(\"/media/sdb1/dtoth/TensorMol\")\n",
    "from TensorMol import *\n",
    "import os\n",
    "os.environ[\"CUDA_VISIBLE_DEVICES\"]=\"2\""
   ]
  },
  {
   "cell_type": "code",
   "execution_count": 4,
   "metadata": {
    "collapsed": true
   },
   "outputs": [],
   "source": [
    "def david_AnnealHarmonic(set_ = \"david_test\", Anneal = True, WriteNM_ = False):\n",
    "\t\"\"\"\n",
    "\tOptionally anneals a molecule and then runs it through a finite difference normal mode analysis\n",
    "\n",
    "\tArgs:\n",
    "\t\tset_: dataset from which a molecule comes\n",
    "\t\tAnneal: whether or not to perform an annealing routine before the analysis\n",
    "\t\tWriteNM_: whether or not to write normal modes to a readable file\n",
    "\tReturns:\n",
    "\t\tFrequencies (wavenumbers)\n",
    "\t\tNormal modes (cartesian)\n",
    "\t\"\"\"\n",
    "\n",
    "\ta = MSet(set_)\n",
    "\ta.ReadXYZ(set_)\n",
    "\tmanager= TFMolManage(\"Mol_uneq_chemspider_ANI1_Sym_fc_sqdiff_BP_1\" , None, False, RandomTData_=False, Trainable_=False)\n",
    "\tx_ = a.mols[6] #Choose index of molecule in a given dataset\n",
    "\tqmanager= TFMolManage(\"Mol_chemspider9_multipole_ANI1_Sym_Dipole_BP_1\" , None, False, RandomTData_=False, Trainable_=False)\n",
    "\tEnergyField = lambda x: manager.Eval_BPForceSingle(Mol(x_.atoms,x),True)[0]\n",
    "\tForceField = lambda x: manager.Eval_BPForceSingle(Mol(x_.atoms,x),True)\n",
    "\tChargeField = lambda x: qmanager.Eval_BPDipole(Mol(x_.atoms,x),False)[2][0]\n",
    "\tmasses = np.array(map(lambda x: ATOMICMASSESAMU[x-1],x_.atoms))\n",
    "\tm_ = masses\n",
    "\teps_ = 0.04 #finite difference step\n",
    "\tif Anneal == True:\n",
    "\t\tPARAMS[\"OptMomentum\"] = 0.0\n",
    "\t\tPARAMS[\"OptMomentumDecay\"] = 0.9\n",
    "\t\tPARAMS[\"OptStepSize\"] = 0.02\n",
    "\t\tPARAMS[\"OptMaxCycles\"]=200\n",
    "\t\tPARAMS[\"MDdt\"] = 0.2\n",
    "\t\tPARAMS[\"RemoveInvariant\"]=True\n",
    "\t\tPARAMS[\"MDMaxStep\"] = 100\n",
    "\t\tPARAMS[\"MDThermostat\"] = \"Nose\"\n",
    "\t\tPARAMS[\"MDV0\"] = None\n",
    "\t\tPARAMS[\"MDTemp\"]= 1.0\n",
    "\t\tannealx_ = Annealer(ForceField, ChargeField, x_, \"Anneal\")\n",
    "\t\tannealx_.Prop()\n",
    "\t\tx_.coords = annealx_.Minx.copy()\n",
    "\t\tx_.WriteXYZfile(\"./results/\", \"davidIR_opt\")\n",
    "\tHarmonicSpectra(EnergyField, x_.coords, masses, x_.atoms, WriteNM_ = True)\n"
   ]
  },
  {
   "cell_type": "code",
   "execution_count": null,
   "metadata": {
    "collapsed": true
   },
   "outputs": [],
   "source": []
  }
 ],
 "metadata": {
  "kernelspec": {
   "display_name": "Python 2",
   "language": "python",
   "name": "python2"
  },
  "language_info": {
   "codemirror_mode": {
    "name": "ipython",
    "version": 2
   },
   "file_extension": ".py",
   "mimetype": "text/x-python",
   "name": "python",
   "nbconvert_exporter": "python",
   "pygments_lexer": "ipython2",
   "version": "2.7.12"
  }
 },
 "nbformat": 4,
 "nbformat_minor": 2
}
