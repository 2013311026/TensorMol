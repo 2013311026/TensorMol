{
 "cells": [
  {
   "cell_type": "code",
   "execution_count": 1,
   "metadata": {},
   "outputs": [
    {
     "name": "stderr",
     "output_type": "stream",
     "text": [
      "Searching for Installed Optional Packages...\n",
      "Pyscf is not installed -- no ab-initio sampling\n"
     ]
    },
    {
     "name": "stdout",
     "output_type": "stream",
     "text": [
      "--------------------------\n",
      "    ፐℇℕЅ⦾Ɽ-ᙏ⦾ℒ  0.0\n",
      "--------------------------\n",
      "By using this software you accept the terms of the GNU public license in \n",
      "COPYING, and agree to attribute the use of this software in publications as: \n",
      "\n",
      "K.Yao, J. E. Herr, J. Parkhill. TensorMol 0.0 (2016)\n",
      "--------------------------\n",
      "--------------------------\n"
     ]
    }
   ],
   "source": [
    "from TensorMol import * "
   ]
  },
  {
   "cell_type": "code",
   "execution_count": 3,
   "metadata": {},
   "outputs": [
    {
     "name": "stdout",
     "output_type": "stream",
     "text": [
      "Unpickling TFManager...\n",
      "TFManager Metadata Loaded, Reviving Networks.\n",
      "-- TensorMol, Tensorflow Manager Status--\n",
      "Unpickling TFInstance...\n"
     ]
    },
    {
     "name": "stderr",
     "output_type": "stream",
     "text": [
      "raised network: ./networks/Mol_uneq_chemspider_ANI1_Sym_1_None\n",
      "-------------------- \n",
      "Transformer Information \n",
      "self.innorm: None\n",
      "self.outnorm: None\n",
      "-------------------- \n",
      "MolInstance.inshape (768,) MolInstance.outshape (1,)\n",
      "MolInstance_fc_sqdiff_BP.inshape: 768\n",
      "MolInstance_fc_sqdiff_BP.eles: [1, 6, 7, 8]\n",
      "MolInstance_fc_sqdiff_BP.inshape.n_eles: 4\n",
      "Layer initial Norms: 0.026516 0.041421 0.041421\n"
     ]
    },
    {
     "name": "stdout",
     "output_type": "stream",
     "text": [
      "self.chk_file: ./networks/Mol_uneq_chemspider_ANI1_Sym_1_None/Mol_uneq_chemspider_ANI1_Sym_1_None-chk-1420\n",
      "self.ScratchState None\n",
      "self.ScratchPointer 0\n",
      "number of atoms in indo 2\n",
      "Orig Coords [[ 0.          0.          0.37137006]\n",
      " [ 0.          0.         -0.37137006]]\n",
      "loading the session..\n",
      "Norms: 0.0265161870076 0.0414213562373 0.0414213562373\n",
      "INFO:tensorflow:Restoring parameters from ./networks/Mol_uneq_chemspider_ANI1_Sym_1_None/Mol_uneq_chemspider_ANI1_Sym_1_None-chk-1420\n",
      "step:  0  energy:  -1.07875101924  rmsgrad  3.35592987486  rmsdisp  0.00374128864548\n",
      "step:  1  energy:  -1.07877146363  rmsgrad  0.0611133340962  rmsdisp  0.000117483818362\n",
      "step:  2  energy:  -1.07877147108  rmsgrad  0.04358483102  rmsdisp  0.000138437390761\n",
      "step:  3  energy:  -1.07877146363  rmsgrad  0.0797787601547  rmsdisp  0.000148118400152\n",
      "step:  4  energy:  -1.07877146363  rmsgrad  0.0522155689667  rmsdisp  4.81441113767e-05\n",
      "Line Search: Understep\n",
      "step:  5  energy:  -1.07877147108  rmsgrad  0.00929947430775  rmsdisp  1.25779961284e-05\n",
      "step:  6  energy:  -1.07877147108  rmsgrad  0.00191061538971  rmsdisp  1.54572031999e-05\n",
      "step:  7  energy:  -1.07877147108  rmsgrad  0.0118656757514  rmsdisp  5.52416200686e-05\n",
      "Line Search: Overstep\n",
      "step:  8  energy:  -1.07877147108  rmsgrad  0.0373627288484  rmsdisp  7.73892867106e-05\n",
      "Line Search: Overstep\n",
      "step:  9  energy:  -1.07877147853  rmsgrad  0.0316071028429  rmsdisp  4.82192287413e-05\n",
      "step:  10  energy:  -1.07877147108  rmsgrad  0.0113699603842  rmsdisp  1.37954820357e-05\n",
      "step:  11  energy:  -1.07877147853  rmsgrad  0.000924467896105  rmsdisp  6.93237619587e-07\n",
      "step:  12  energy:  -1.07877147108  rmsgrad  0.000306635442073  rmsdisp  5.14159235632e-07\n",
      "step:  13  energy:  -1.07877147108  rmsgrad  0.000151595759295  rmsdisp  2.54192272064e-07\n",
      "step:  14  energy:  -1.07877145618  rmsgrad  7.49463913405e-05  rmsdisp  1.25668380091e-07\n",
      "Final Energy: -1.07877145618\n"
     ]
    }
   ],
   "source": [
    "a = MSet()\n",
    "a.ReadXYZ(\"david_test\")\n",
    "#a = MSet(\"david_test\")\n",
    "#a.ReadXYZ(\"david_test\")\n",
    "manager= TFMolManage(\"Mol_uneq_chemspider_ANI1_Sym_fc_sqdiff_BP_1\" , None, False, RandomTData_=False, Trainable_=False)\n",
    "PARAMS[\"OptMomentum\"] = 0.0\n",
    "PARAMS[\"OptMomentumDecay\"] = 0.9\n",
    "PARAMS[\"OptStepSize\"] = 0.02\n",
    "PARAMS[\"OptMaxCycles\"]=200\n",
    "indo = a.mols[0]\n",
    "m_ = indo\n",
    "ForceField = lambda x: manager.Eval_BPForceSingle(Mol(indo.atoms,x),True)\n",
    "print \"number of atoms in indo\", indo.NAtoms()\n",
    "optimizer = GeomOptimizer(ForceField)\n",
    "optm = optimizer.Opt(indo)"
   ]
  },
  {
   "cell_type": "code",
   "execution_count": 4,
   "metadata": {},
   "outputs": [
    {
     "data": {
      "text/plain": [
       "array([[ 0.       ,  0.       ,  0.3675601],\n",
       "       [ 0.       ,  0.       , -0.3675601]])"
      ]
     },
     "execution_count": 4,
     "metadata": {},
     "output_type": "execute_result"
    }
   ],
   "source": [
    "optm.coords"
   ]
  },
  {
   "cell_type": "code",
   "execution_count": 5,
   "metadata": {
    "collapsed": true
   },
   "outputs": [],
   "source": [
    "import numpy as np\n",
    "Ecurve = np.zeros((20,2))\n",
    "for i,d in enumerate(np.linspace(-.2,.2,20)):\n",
    "    delta = np.zeros((2,3))\n",
    "    delta[1,2] += d\n",
    "    Ecurve[i,0] = d \n",
    "    Ecurve[i,1] = ForceField(optm.coords + delta)[0]"
   ]
  },
  {
   "cell_type": "code",
   "execution_count": 6,
   "metadata": {},
   "outputs": [
    {
     "data": {
      "text/plain": [
       "array([[-0.2       , -1.06641304],\n",
       "       [-0.17894737, -1.06924179],\n",
       "       [-0.15789474, -1.07154836],\n",
       "       [-0.13684211, -1.07349485],\n",
       "       [-0.11578947, -1.07510482],\n",
       "       [-0.09473684, -1.07640188],\n",
       "       [-0.07368421, -1.07751603],\n",
       "       [-0.05263158, -1.07814867],\n",
       "       [-0.03157895, -1.07857431],\n",
       "       [-0.01052632, -1.07874074],\n",
       "       [ 0.01052632, -1.07872238],\n",
       "       [ 0.03157895, -1.07830953],\n",
       "       [ 0.05263158, -1.07705033],\n",
       "       [ 0.07368421, -1.07516901],\n",
       "       [ 0.09473684, -1.07299594],\n",
       "       [ 0.11578947, -1.0701368 ],\n",
       "       [ 0.13684211, -1.06615127],\n",
       "       [ 0.15789474, -1.06109564],\n",
       "       [ 0.17894737, -1.05461028],\n",
       "       [ 0.2       , -1.04558401]])"
      ]
     },
     "execution_count": 6,
     "metadata": {},
     "output_type": "execute_result"
    }
   ],
   "source": [
    "Ecurve"
   ]
  },
  {
   "cell_type": "code",
   "execution_count": 7,
   "metadata": {},
   "outputs": [
    {
     "data": {
      "image/png": "[encoded data removed]",
      "text/plain": [
       "<matplotlib.figure.Figure at 0x7f9780c60990>"
      ]
     },
     "metadata": {},
     "output_type": "display_data"
    }
   ],
   "source": [
    "import pylab\n",
    "pylab.plot(Ecurve[:,0],Ecurve[:,1])\n",
    "pylab.show()"
   ]
  },
  {
   "cell_type": "code",
   "execution_count": 10,
   "metadata": {},
   "outputs": [
    {
     "data": {
      "text/plain": [
       "-1.1754439981"
      ]
     },
     "execution_count": 10,
     "metadata": {},
     "output_type": "execute_result"
    }
   ],
   "source": [
    "QForceField = lambda x: QchemDft(Mol(indo.atoms,x))\n",
    "QForceField(optm.coords)"
   ]
  },
  {
   "cell_type": "code",
   "execution_count": 11,
   "metadata": {
    "collapsed": true
   },
   "outputs": [],
   "source": [
    "QForceField = lambda x: QchemDft(Mol(indo.atoms,x))\n",
    "QEcurve = np.zeros((20,2))\n",
    "for i,d in enumerate(np.linspace(-.2,.2,20)):\n",
    "    delta = np.zeros((2,3))\n",
    "    delta[1,2] += d\n",
    "    QEcurve[i,0] = d \n",
    "    QEcurve[i,1] = QForceField(optm.coords + delta)"
   ]
  },
  {
   "cell_type": "code",
   "execution_count": 12,
   "metadata": {},
   "outputs": [
    {
     "data": {
      "image/png": "[encoded data removed]",
      "text/plain": [
       "<matplotlib.figure.Figure at 0x7f979181a210>"
      ]
     },
     "metadata": {},
     "output_type": "display_data"
    }
   ],
   "source": [
    "import pylab\n",
    "pylab.plot(QEcurve[:,0],QEcurve[:,1])\n",
    "pylab.show()"
   ]
  },
  {
   "cell_type": "code",
   "execution_count": 13,
   "metadata": {},
   "outputs": [
    {
     "data": {
      "text/plain": [
       "array([[-0.2       , -1.15842418],\n",
       "       [-0.17894737, -1.16142061],\n",
       "       [-0.15789474, -1.16423061],\n",
       "       [-0.13684211, -1.16682315],\n",
       "       [-0.11578947, -1.16916309],\n",
       "       [-0.09473684, -1.17121068],\n",
       "       [-0.07368421, -1.17292081],\n",
       "       [-0.05263158, -1.17424233],\n",
       "       [-0.03157895, -1.17511705],\n",
       "       [-0.01052632, -1.17547874],\n",
       "       [ 0.01052632, -1.17525189],\n",
       "       [ 0.03157895, -1.17435036],\n",
       "       [ 0.05263158, -1.17267563],\n",
       "       [ 0.07368421, -1.17011474],\n",
       "       [ 0.09473684, -1.16653779],\n",
       "       [ 0.11578947, -1.16179489],\n",
       "       [ 0.13684211, -1.15571242],\n",
       "       [ 0.15789474, -1.1480882 ],\n",
       "       [ 0.17894737, -1.1386857 ],\n",
       "       [ 0.2       , -1.12722727]])"
      ]
     },
     "execution_count": 13,
     "metadata": {},
     "output_type": "execute_result"
    }
   ],
   "source": [
    "QEcurve"
   ]
  },
  {
   "cell_type": "code",
   "execution_count": 26,
   "metadata": {
    "collapsed": true
   },
   "outputs": [],
   "source": [
    "import scipy.optimize"
   ]
  },
  {
   "cell_type": "code",
   "execution_count": 27,
   "metadata": {
    "collapsed": true
   },
   "outputs": [],
   "source": [
    "import numpy as np\n",
    "import matplotlib.pyplot as plt\n",
    "from scipy.optimize import curve_fit"
   ]
  },
  {
   "cell_type": "code",
   "execution_count": null,
   "metadata": {
    "collapsed": true
   },
   "outputs": [],
   "source": []
  }
 ],
 "metadata": {
  "kernelspec": {
   "display_name": "Python 2",
   "language": "python",
   "name": "python2"
  },
  "language_info": {
   "codemirror_mode": {
    "name": "ipython",
    "version": 2
   },
   "file_extension": ".py",
   "mimetype": "text/x-python",
   "name": "python",
   "nbconvert_exporter": "python",
   "pygments_lexer": "ipython2",
   "version": "2.7.12"
  }
 },
 "nbformat": 4,
 "nbformat_minor": 2
}
